{
  "cells": [
    {
      "cell_type": "markdown",
      "metadata": {
        "id": "view-in-github",
        "colab_type": "text"
      },
      "source": [
        "<a href=\"https://colab.research.google.com/github/Touransland-ZC/Technical__Assignment/blob/main/FileOrganizer.ipynb\" target=\"_parent\"><img src=\"https://colab.research.google.com/assets/colab-badge.svg\" alt=\"Open In Colab\"/></a>"
      ]
    },
    {
      "cell_type": "code",
      "source": [
        "!git config --global user.name \"Touransland-ZC\"\n",
        "!git config --global user.email \"s-touransland.saleh@zewailcity.edu.eg\""
      ],
      "metadata": {
        "id": "PbfTolY7BghS"
      },
      "execution_count": null,
      "outputs": []
    },
    {
      "cell_type": "markdown",
      "metadata": {
        "id": "Dx9vwUcIPWNI"
      },
      "source": [
        "# **File organizer**"
      ]
    },
    {
      "cell_type": "markdown",
      "source": [
        "This is a script that organizes files in a given folder by file type, such as images, documents, videos, archives, code, eBooks. any other file will be categoriezed as others.\n",
        "\n"
      ],
      "metadata": {
        "id": "xDIMWLcbRFxG"
      }
    },
    {
      "cell_type": "markdown",
      "source": [
        "**Folder source:** The input folder can be either from google drive (the changes will take place in the real folder), or it can write a folder uploaded to the Colab environment (This is because Colab is considered VM, so it can't edit the real PC files)\n",
        "\n",
        "\n"
      ],
      "metadata": {
        "id": "9a7BqMw3Ry7r"
      }
    },
    {
      "cell_type": "markdown",
      "source": [
        "**Simulation mode**\n",
        "The user can run a simulation mode, which will show what will happen without moving the files."
      ],
      "metadata": {
        "id": "zdlqWPAJSUoo"
      }
    },
    {
      "cell_type": "markdown",
      "source": [
        "**Summary:** Three summaries are provided. The first one indicates the movement of each file name to its distenation, the second one indicates the total number of files under each category. The third one is a pie chart, and it is based on the user's request."
      ],
      "metadata": {
        "id": "mXwkIPILTFlT"
      }
    },
    {
      "cell_type": "code",
      "execution_count": 18,
      "metadata": {
        "colab": {
          "base_uri": "https://localhost:8080/"
        },
        "id": "sB9Ry9rvPdgg",
        "outputId": "9aac0ff9-9c04-4c08-c8af-a4eefc9765fc"
      },
      "outputs": [
        {
          "output_type": "stream",
          "name": "stdout",
          "text": [
            "Overwriting file_organizer.py\n"
          ]
        }
      ],
      "source": [
        "%%writefile file_organizer.py\n",
        "\n",
        "import argparse\n",
        "from pathlib import Path\n",
        "import shutil\n",
        "import matplotlib.pyplot as plt\n",
        "\n",
        "\n",
        "# myExtensions_Groups is a dict, each key represents a category which will map to a tuble representing the most popular extensions\n",
        "# these are the most popular extensions, any new ext will be categorized as 'others' later\n",
        "myExtensions_Groups = {\n",
        "    \"Images\": (\"jpg\", \"jpeg\", \"png\", \"gif\", \"bmp\", \"tiff\", \"tif\", \"webp\", \"svg\", \"heic\", \"heif\", \"ico\",),\n",
        "\n",
        "    \"Documents\": (\"pdf\", \"doc\", \"docx\", \"xls\", \"xlsx\", \"ppt\", \"pptx\",\"txt\", \"md\", \"rtf\", \"csv\", \"tsv\", \"json\",\"xml\", \"yaml\", \"yml\", \"ipynb\", \"tex\",),\n",
        "\n",
        "    \"Videos\": (\"mp4\", \"mkv\", \"mov\", \"avi\", \"wmv\", \"flv\", \"webm\", \"m4v\",\"3gp\", \"mpeg\", \"mpg\", \"ts\", \"m2ts\", \"ogv\",),\n",
        "\n",
        "    \"Audio\": (\"mp3\", \"wav\", \"flac\", \"aac\", \"m4a\", \"ogg\", \"opus\", \"wma\",\"aiff\", \"aif\", \"mid\", \"midi\", \"amr\", \"caf\",),\n",
        "\n",
        "    \"Archives\": (\"zip\", \"rar\", \"7z\", \"tar\", \"gz\", \"bz2\", \"xz\", \"zst\", \"lz\", \"lzma\",\"tgz\", \"tbz2\", \"txz\",),\n",
        "\n",
        "    \"Code\": (\"py\", \"js\", \"ts\", \"jsx\", \"tsx\",\"html\", \"css\",\"c\", \"h\", \"cpp\", \"hpp\", \"cc\", \"cs\", \"java\", \"kt\", \"go\", \"rs\", \"rb\", \"php\", \"r\", \"jl\", \"m\",\"sh\", \"bash\", \"zsh\", \"ps1\", \"bat\", \"pl\", \"lua\", \"sql\",\"v\", \"sv\", \"vhd\", \"vhdl\",),\n",
        "\n",
        "    \"eBooks\": (\"epub\", \"mobi\", \"azw\", \"azw3\", \"djvu\", \"fb2\",),}\n",
        "\n",
        "\n",
        "\n",
        "\n",
        "# flattening myExtensions_Groups to make the maping faster O(1)\n",
        "EXT_TO_CATEGORY = {}\n",
        "for cat, exts in myExtensions_Groups.items():\n",
        "    for ext in exts:\n",
        "        EXT_TO_CATEGORY[ext] = cat\n",
        "\n",
        "\n",
        "\n",
        "# all the categories names, I will use this fixed order for a summary for the users\n",
        "CATEGORIES = tuple([*myExtensions_Groups.keys(), \"Others\"])\n",
        "\n",
        "\n",
        "\n",
        "\n",
        "# choose the file category based on the last file extension, and for unknown ext categorise them as 'Others'\n",
        "def categorize(path: Path) -> str:\n",
        "    ext = path.suffix.lower().lstrip(\".\")\n",
        "    return EXT_TO_CATEGORY.get(ext, \"Others\")\n",
        "\n",
        "\n",
        "\n",
        "\n",
        "# avoid overwriting existing files, so if a file name exists in its category folder, maybe from a previous run, then give it the same name but with a number.\n",
        "# this happens in our real life, for ex when we past a file twice in folder, we find the new version's name have number between brackets like aaa.pdf, aaa (1).pdf, and so on.\n",
        "# it handles if the file has multi suffix, like (archive.tar.gz)\n",
        "# it handles the hidden files and the files with no extensions like the Readme\n",
        "def safe_destination(dst_dir: Path, name: str) -> Path:\n",
        "    p = Path(name)\n",
        "    file_extensions = \"\".join(p.suffixes)\n",
        "\n",
        "    if file_extensions:\n",
        "        cut_extensions = len(p.name) - len(file_extensions)\n",
        "        file_base_name = p.name[:cut_extensions]\n",
        "    else:\n",
        "        file_base_name = p.name\n",
        "\n",
        "    new_file_path = dst_dir / (file_base_name + file_extensions)\n",
        "    n = 1\n",
        "\n",
        "    while new_file_path.exists():\n",
        "        new_file_path = dst_dir / f\"{file_base_name} ({n}){file_extensions}\"\n",
        "        n += 1\n",
        "    return new_file_path\n",
        "\n",
        "\n",
        "\n",
        "\n",
        "\n",
        "# scans the folder, without recursions or scannign subfolders\n",
        "def scan_top_level(root: Path):\n",
        "    for i in root.iterdir():\n",
        "        if i.is_file():\n",
        "            yield i\n",
        "\n",
        "\n",
        "\n",
        "\n",
        "# it makes like a to-do list of the moves without moving the files\n",
        "# it returns a list of tubles having the file source, distenation and category for moves\n",
        "def plan_moves(root: Path):\n",
        "    moves = []\n",
        "    for f_src in scan_top_level(root):\n",
        "        if not f_src.is_file():\n",
        "            continue\n",
        "        f_category = categorize(f_src)\n",
        "        f_dst = safe_destination(root / f_category, f_src.name)\n",
        "        moves.append((f_src, f_dst, f_category))\n",
        "    return moves\n",
        "\n",
        "\n",
        "\n",
        "\n",
        "# it can either executes or simulates the moves based on plan_moves.\n",
        "# it returns counts per category.\n",
        "def apply_moves(moves, simulate: bool = False):\n",
        "\n",
        "    counts = {i_catergory: 0 for i_catergory in CATEGORIES}\n",
        "\n",
        "    for f_src, f_dst, f_category in moves:\n",
        "\n",
        "        if simulate:\n",
        "            counts[f_category] += 1\n",
        "            continue\n",
        "\n",
        "        print(f\"MOVE {f_src.name} -> {f_category}/{f_dst.name}\")   # print each move\n",
        "        try:\n",
        "            f_dst.parent.mkdir(parents=True, exist_ok=True)\n",
        "            shutil.move(str(f_src), str(f_dst))                     # moving\n",
        "            counts[f_category] += 1\n",
        "        except Exception as e:\n",
        "            print(f\"SKIP {f_src.name} -> {f_category}/{f_dst.name} [error: {e}]\")\n",
        "\n",
        "    return counts\n",
        "\n",
        "\n",
        "\n",
        "\n",
        "# printing a summary of the number of files moved per category.\n",
        "def print_summary(counts):\n",
        "    total = sum(counts.values())\n",
        "    print(\"\\n-.-_.-._-.-_.-._.-._.-.-\\n\\tSummary\\n-.-_.-._-.-_.-._.-._.-.-\")\n",
        "\n",
        "    for i in CATEGORIES:\n",
        "        print(f\"{i}: {counts.get(i, 0)}\")\n",
        "    print(f\"Total: {total}\")\n",
        "\n",
        "\n",
        "\n",
        "\n",
        "# it shows the summary in a form of a pie chart, if there was no files in the folder then it will say No files to plot\n",
        "def show_summary_pie(counts, title=\"Files per category\"):\n",
        "    labels = [c for c in CATEGORIES if counts.get(c, 0)]\n",
        "    sizes  = [counts[c] for c in labels]\n",
        "\n",
        "    if not sizes:\n",
        "        print(\"No files to plot\")\n",
        "        return\n",
        "    fig, ax = plt.subplots()\n",
        "    ax.pie(sizes, labels=labels, autopct=\"%d\", startangle=90)\n",
        "    ax.axis(\"equal\")\n",
        "    ax.set_title(title)\n",
        "    plt.tight_layout()\n",
        "    plt.show()\n",
        "\n",
        "\n",
        "\n",
        "\n",
        "\n",
        "\n",
        "\n",
        "# the command line interface.\n",
        "# the user will have an aoption to simulation mode\n",
        "def parse_args(argv=None):\n",
        "    p = argparse.ArgumentParser(description=\"Organize files in a folder into Images, Documents, Videos, Audio, Archives, eBooks, Others based on extension.\")\n",
        "\n",
        "    p.add_argument(\"folder\", type=Path, help=\"Path to the folder to organize\")\n",
        "    p.add_argument(\"--simulate\", action=\"store_true\", help=\"Show what would happen without moving files\")\n",
        "    p.add_argument(\"--plot-pie\", action=\"store_true\", help=\"Show a pie chart of the counts\")\n",
        "\n",
        "    return p.parse_args(argv)\n",
        "\n",
        "\n",
        "\n",
        "\n",
        "\n",
        "def main(argv=None) -> int:\n",
        "    args = parse_args(argv)\n",
        "    root = args.folder\n",
        "\n",
        "    if not root.exists() or not root.is_dir():\n",
        "        print(\"The path must be an existing directory\")\n",
        "        return 2\n",
        "\n",
        "    moves = plan_moves(root)\n",
        "    counts = apply_moves(moves, simulate=args.simulate)\n",
        "\n",
        "    print_summary(counts)\n",
        "\n",
        "    if getattr(args, \"plot_pie\", False):\n",
        "        show_summary_pie(counts)\n",
        "\n",
        "\n",
        "\n",
        "    return 0\n",
        "\n",
        "\n",
        "\n",
        "if __name__ == \"__main__\":\n",
        "    raise SystemExit(main())\n"
      ]
    },
    {
      "cell_type": "markdown",
      "source": [
        "# **The runner for Colab**"
      ],
      "metadata": {
        "id": "02rmfj4eXVKN"
      }
    },
    {
      "cell_type": "code",
      "source": [
        "from pathlib import Path\n",
        "import importlib\n",
        "import file_organizer as org\n",
        "\n",
        "\n",
        "\n",
        "\n",
        "# thses is the allowed roots for safety and clearer error messages\n",
        "# Note: I am working on Colab, so I am using the Colab VM storage not the actual pc stoage\n",
        "# also the user can choose to organize a folder from the drive\n",
        "ALLOWED_CONTENT = (Path(\"/content\"),)\n",
        "ALLOWED_DRIVE   = (Path(\"/content/drive\"),)\n",
        "\n",
        "\n",
        "\n",
        "\n",
        "# Simple menu loop to ask the user whether the folder is on the drive or was uploaded earlier on Colab VM storage\n",
        "# the user must enters a valide number that represents the choice\n",
        "def pick(prompt, choices):\n",
        "    while True:\n",
        "        print(prompt)\n",
        "        for k, v in choices.items():\n",
        "            print(f\"  {k}) {v}\")\n",
        "        ans = input(\"Enter a number: \").strip()\n",
        "        if ans in choices:\n",
        "            return ans\n",
        "        print(\"Invalid choice.\\n\")\n",
        "\n",
        "\n",
        "\n",
        "\n",
        "# Yes/No prompt, the default is true\n",
        "def my_yn_fun(prompt, default=True):\n",
        "    ans = input(f\"{prompt} [1=Yes, 2=No] \").strip()\n",
        "    return default if ans == \"\" else ans == \"1\"\n",
        "\n",
        "\n",
        "\n",
        "\n",
        "# Ask for a folder path until it’s valid.\n",
        "# there is some checkings like being under one of the allowed roots, and must be a directory, it returns the default when empty\n",
        "def prompt_dir_until_valid(title, default=None, must_under=(), require_non_empty=True):\n",
        "    while True:\n",
        "        suffix = f\" [{default}]\" if default else \"\"\n",
        "        raw = input(f\"{title}{suffix}: \").strip()\n",
        "        if raw == \"\" and default:\n",
        "            raw = default\n",
        "        p = Path(raw)\n",
        "\n",
        "        if must_under and not any(str(p).startswith(str(root)) for root in must_under):\n",
        "            roots = \" or \".join(str(r) for r in must_under)\n",
        "            print(f\"Path must start with {roots}\\n\")\n",
        "            continue\n",
        "        if not p.exists():\n",
        "            print(\"Path not found\\n\")\n",
        "            continue\n",
        "        if not p.is_dir():\n",
        "            print(\"Path is not a directory\\n\")\n",
        "            continue\n",
        "        if require_non_empty and not any(p.iterdir()):\n",
        "            print(\"Folder is empty\\n\")\n",
        "            continue\n",
        "        return p\n",
        "\n",
        "\n",
        "\n",
        "\n",
        "# the main interaction loop\n",
        "def run():\n",
        "    importlib.reload(org) # reloading so the edits be effective\n",
        "\n",
        "    while True:  # asking each time for the source whether it is from the drive or was uploaded on the virtual machine strorage of Colab\n",
        "        src = pick(\"Choose source\", { \"1\": \"Google Drive folder\", \"2\": \"Existing folder under /content \",})\n",
        "\n",
        "        if src == \"1\":\n",
        "            from google.colab import drive\n",
        "            drive.mount(\"/content/drive\")\n",
        "            folder = prompt_dir_until_valid(\"Drive folder path\", must_under=ALLOWED_DRIVE, require_non_empty=True,)\n",
        "\n",
        "        else:\n",
        "            folder = prompt_dir_until_valid(\n",
        "                \"Folder under /content (e.g., /content/inbox)\", default=\"/content/inbox\", must_under=ALLOWED_CONTENT, require_non_empty=True,)\n",
        "\n",
        "        simulate = my_yn_fun(\"Simulate only\", True)    # simulation mode, without moving\n",
        "        show_pie = my_yn_fun(\"Show pie chart now\", True)\n",
        "\n",
        "        argv = [str(folder)]\n",
        "        if simulate: argv.append(\"--simulate\")\n",
        "        if show_pie: argv.append(\"--plot-pie\")\n",
        "\n",
        "        org.main(argv)\n",
        "\n",
        "        if not my_yn_fun(\"Organize another folder\", False):\n",
        "            break\n",
        "\n",
        "run()\n"
      ],
      "metadata": {
        "id": "z2mRk71CQsHB",
        "outputId": "88825f63-e515-43a8-b794-dbc93afd7f3b",
        "colab": {
          "base_uri": "https://localhost:8080/",
          "height": 1000
        }
      },
      "execution_count": null,
      "outputs": [
        {
          "output_type": "stream",
          "name": "stdout",
          "text": [
            "Choose source\n",
            "  1) Google Drive folder\n",
            "  2) Existing folder under /content \n",
            "Enter a number: 1\n",
            "Drive already mounted at /content/drive; to attempt to forcibly remount, call drive.mount(\"/content/drive\", force_remount=True).\n",
            "Drive folder path: /content/drive/MyDrive/Testing_drive_folder\n",
            "Simulate only [1=Yes, 2=No] 2\n",
            "Show pie chart now [1=Yes, 2=No] 1\n",
            "MOVE i.pptx -> Documents/i (1).pptx\n",
            "MOVE a.zip -> Archives/a (1).zip\n",
            "MOVE f.docx -> Documents/f (1).docx\n",
            "MOVE d.docx -> Documents/d (1).docx\n",
            "MOVE k.xlsx -> Documents/k (1).xlsx\n",
            "MOVE j.txt -> Documents/j (1).txt\n",
            "MOVE c.bmp -> Images/c (1).bmp\n",
            "MOVE b.accdb -> Others/b (1).accdb\n",
            "\n",
            "-.-_.-._-.-_.-._.-._.-.-\n",
            "\tSummary\n",
            "-.-_.-._-.-_.-._.-._.-.-\n",
            "Images: 1\n",
            "Documents: 5\n",
            "Videos: 0\n",
            "Audio: 0\n",
            "Archives: 1\n",
            "Code: 0\n",
            "eBooks: 0\n",
            "Others: 1\n",
            "Total: 8\n"
          ]
        },
        {
          "output_type": "display_data",
          "data": {
            "text/plain": [
              "<Figure size 640x480 with 1 Axes>"
            ],
            "image/png": "[encoded data removed]"
          },
          "metadata": {}
        }
      ]
    },
    {
      "cell_type": "markdown",
      "source": [
        "# **Testing coverage**"
      ],
      "metadata": {
        "id": "zflIgX07nvZf"
      }
    },
    {
      "cell_type": "code",
      "source": [
        "# Run once\n",
        "'''\n",
        "import os\n",
        "os.makedirs(\"tests\", exist_ok=True)\n",
        "os.makedirs(\".github/workflows\", exist_ok=True)\n",
        "'''"
      ],
      "metadata": {
        "id": "3CIpWuZEpO44"
      },
      "execution_count": 10,
      "outputs": []
    },
    {
      "cell_type": "code",
      "source": [
        "%%writefile tests/conftest.py\n",
        "import matplotlib.pyplot as plt\n",
        "import pytest\n",
        "\n",
        "@pytest.fixture(autouse=True)\n",
        "def _no_blocking_show(monkeypatch):\n",
        "    monkeypatch.setattr(plt, \"show\", lambda *a, **k: None)\n",
        "\n",
        "@pytest.fixture\n",
        "def make_files(tmp_path):\n",
        "    def _mk(mapping):\n",
        "        for name, content in mapping.items():\n",
        "            p = tmp_path / name\n",
        "            p.write_text(content)\n",
        "        return tmp_path\n",
        "    return _mk\n"
      ],
      "metadata": {
        "id": "R-6m-bLnpbvm",
        "outputId": "8eb5bedc-e717-4322-f4cc-e90aa7fca76b",
        "colab": {
          "base_uri": "https://localhost:8080/"
        }
      },
      "execution_count": 11,
      "outputs": [
        {
          "output_type": "stream",
          "name": "stdout",
          "text": [
            "Writing tests/conftest.py\n"
          ]
        }
      ]
    },
    {
      "cell_type": "code",
      "source": [
        "%%writefile tests/test_file_organizer.py\n",
        "from pathlib import Path\n",
        "import file_organizer as org\n",
        "\n",
        "def test_categorize_known_and_unknown(tmp_path):\n",
        "    img = tmp_path / \"a.JPG\"\n",
        "    txt = tmp_path / \"b.txt\"\n",
        "    binf = tmp_path / \"program.bin\"\n",
        "    img.write_text(\"x\"); txt.write_text(\"x\"); binf.write_bytes(b\"\\x00\\x01\")\n",
        "    assert org.categorize(img) == \"Images\"\n",
        "    assert org.categorize(txt) == \"Documents\"\n",
        "    assert org.categorize(binf) == \"Others\"\n",
        "\n",
        "def test_safe_destination_handles_duplicates_and_extensions(tmp_path):\n",
        "    dst = tmp_path / \"Images\"; dst.mkdir()\n",
        "    (dst / \"photo.png\").write_text(\"old\")\n",
        "    (dst / \"archive.tar.gz\").write_text(\"old\")\n",
        "    p1 = org.safe_destination(dst, \"photo.png\")\n",
        "    p2 = org.safe_destination(dst, \"archive.tar.gz\")\n",
        "    p3 = org.safe_destination(dst, \".gitignore\")\n",
        "    p4 = org.safe_destination(dst, \"README\")\n",
        "    assert p1.name == \"photo (1).png\"\n",
        "    assert p2.name == \"archive (1).tar.gz\"\n",
        "    assert p3.name == \".gitignore\"\n",
        "    assert p4.name == \"README\"\n",
        "\n",
        "def test_scan_top_level_skips_dirs(tmp_path):\n",
        "    (tmp_path / \"f1.txt\").write_text(\"x\")\n",
        "    sub = tmp_path / \"sub\"; sub.mkdir()\n",
        "    (sub / \"nested.txt\").write_text(\"y\")\n",
        "    names = {p.name for p in org.scan_top_level(tmp_path)}\n",
        "    assert names == {\"f1.txt\"}\n",
        "\n",
        "def test_plan_moves_uses_category_and_safe_destination(tmp_path):\n",
        "    (tmp_path / \"a.png\").write_text(\"x\")\n",
        "    (tmp_path / \"b.pdf\").write_text(\"x\")\n",
        "    d = tmp_path / \"Images\"; d.mkdir()\n",
        "    (d / \"a.png\").write_text(\"old\")\n",
        "    moves = org.plan_moves(tmp_path)\n",
        "    trio = sorted([(src.name, dst.parent.name, dst.name) for src, dst, _ in moves])\n",
        "    assert trio == [(\"a.png\", \"Images\", \"a (1).png\"), (\"b.pdf\", \"Documents\", \"b.pdf\")]\n",
        "\n",
        "def test_apply_moves_simulate_counts_only(tmp_path):\n",
        "    (tmp_path / \"a.mp4\").write_text(\"x\")\n",
        "    (tmp_path / \"b.xyz\").write_text(\"x\")\n",
        "    moves = org.plan_moves(tmp_path)\n",
        "    counts = org.apply_moves(moves, simulate=True)\n",
        "    assert counts[\"Videos\"] == 1\n",
        "    assert counts[\"Others\"] == 1\n",
        "    assert (tmp_path / \"a.mp4\").exists()\n",
        "    assert (tmp_path / \"b.xyz\").exists()\n",
        "\n",
        "def test_apply_moves_real(tmp_path):\n",
        "    (tmp_path / \"a.mp3\").write_text(\"x\")\n",
        "    moves = org.plan_moves(tmp_path)\n",
        "    counts = org.apply_moves(moves, simulate=False)\n",
        "    assert counts[\"Audio\"] == 1\n",
        "    assert not (tmp_path / \"a.mp3\").exists()\n",
        "    assert (tmp_path / \"Audio\" / \"a.mp3\").exists()\n",
        "\n",
        "def test_print_summary_output(capsys):\n",
        "    counts = {c: 0 for c in org.CATEGORIES}\n",
        "    counts[\"Images\"] = 2; counts[\"Others\"] = 1\n",
        "    org.print_summary(counts)\n",
        "    out = capsys.readouterr().out\n",
        "    assert \"Images: 2\" in out\n",
        "    assert \"Others: 1\" in out\n",
        "    assert \"Total: 3\" in out\n",
        "\n",
        "def test_show_summary_pie_handles_empty_counts(capsys):\n",
        "    counts = {c: 0 for c in org.CATEGORIES}\n",
        "    org.show_summary_pie(counts)\n",
        "    out = capsys.readouterr().out\n",
        "    assert \"No files to plot\" in out\n",
        "\n",
        "def test_parse_args_flags():\n",
        "    args = org.parse_args([str(Path(\".\")), \"--simulate\", \"--plot-pie\"])\n",
        "    assert args.simulate is True\n",
        "    assert args.plot_pie is True\n",
        "\n",
        "def test_main_invalid_path_returns_2(tmp_path, capsys):\n",
        "    missing = tmp_path / \"nope\"\n",
        "    rc = org.main([str(missing)])\n",
        "    assert rc == 2\n",
        "    assert \"must be an existing directory\" in capsys.readouterr().out\n",
        "\n",
        "def test_main_simulate_does_not_move(tmp_path):\n",
        "    f = tmp_path / \"doc.txt\"; f.write_text(\"x\")\n",
        "    rc = org.main([str(tmp_path), \"--simulate\"])\n",
        "    assert rc == 0\n",
        "    assert f.exists()\n"
      ],
      "metadata": {
        "id": "DEvY2P-rpgeO",
        "outputId": "6c1a599a-318a-4552-cbb3-6d063c645abb",
        "colab": {
          "base_uri": "https://localhost:8080/"
        }
      },
      "execution_count": 12,
      "outputs": [
        {
          "output_type": "stream",
          "name": "stdout",
          "text": [
            "Writing tests/test_file_organizer.py\n"
          ]
        }
      ]
    },
    {
      "cell_type": "code",
      "source": [
        "%%writefile requirements.txt\n",
        "pytest\n",
        "pytest-cov\n",
        "matplotlib\n"
      ],
      "metadata": {
        "id": "ZuVBHye_pg93",
        "outputId": "545011d6-a79f-430e-f8c1-a7c48043bd36",
        "colab": {
          "base_uri": "https://localhost:8080/"
        }
      },
      "execution_count": 13,
      "outputs": [
        {
          "output_type": "stream",
          "name": "stdout",
          "text": [
            "Overwriting requirements.txt\n"
          ]
        }
      ]
    },
    {
      "cell_type": "code",
      "source": [
        "%%writefile .github/workflows/ci.yml\n",
        "name: tests\n",
        "on:\n",
        "  push:\n",
        "  pull_request:\n",
        "jobs:\n",
        "  test:\n",
        "    runs-on: ubuntu-latest\n",
        "    steps:\n",
        "      - uses: actions/checkout@v4\n",
        "      - uses: actions/setup-python@v5\n",
        "        with:\n",
        "          python-version: '3.11'\n",
        "          cache: 'pip'\n",
        "      - run: pip install -r requirements.txt\n",
        "      - run: pytest -q --cov=file_organizer --cov-report=term-missing --junitxml=report.xml\n",
        "      - uses: actions/upload-artifact@v4\n",
        "        with:\n",
        "          name: pytest-artifacts\n",
        "          path: report.xml\n"
      ],
      "metadata": {
        "id": "-cJMBOUZpjwa",
        "outputId": "685d6eaf-e9fd-40db-a79e-cf58c42568a6",
        "colab": {
          "base_uri": "https://localhost:8080/"
        }
      },
      "execution_count": 14,
      "outputs": [
        {
          "output_type": "stream",
          "name": "stdout",
          "text": [
            "Writing .github/workflows/ci.yml\n"
          ]
        }
      ]
    },
    {
      "cell_type": "code",
      "source": [
        "%%writefile tests/test_file_organizer_more.py\n",
        "import shutil\n",
        "from pathlib import Path\n",
        "import builtins\n",
        "import file_organizer as org\n",
        "\n",
        "def test_show_summary_pie_non_empty(monkeypatch):\n",
        "    # Avoid real GUI\n",
        "    import matplotlib.pyplot as plt\n",
        "    called = {\"show\": 0, \"pie\": 0}\n",
        "    monkeypatch.setattr(plt, \"show\", lambda *a, **k: called.__setitem__(\"show\", called[\"show\"] + 1))\n",
        "    def wrap_pie(*a, **k):\n",
        "        called[\"pie\"] += 1\n",
        "        return plt.pie.__wrapped__(*a, **k) if hasattr(plt.pie, \"__wrapped__\") else None\n",
        "    # if Matplotlib can't wrap like this on your runtime, it's fine:\n",
        "    # the next line just ensures pie got called at least once.\n",
        "    try:\n",
        "        monkeypatch.setattr(plt, \"pie\", wrap_pie)\n",
        "    except Exception:\n",
        "        pass\n",
        "\n",
        "    counts = {c: 0 for c in org.CATEGORIES}\n",
        "    counts[\"Images\"] = 2\n",
        "    counts[\"Documents\"] = 1\n",
        "    org.show_summary_pie(counts, title=\"t\")\n",
        "\n",
        "    # show must be invoked\n",
        "    assert called[\"show\"] >= 1\n",
        "\n",
        "def test_safe_destination_numbering_to_two(tmp_path):\n",
        "    dst = tmp_path / \"Documents\"\n",
        "    dst.mkdir()\n",
        "    # Existing base and “(1)” to force “(2)”.\n",
        "    (dst / \"file.txt\").write_text(\"x\")\n",
        "    (dst / \"file (1).txt\").write_text(\"x\")\n",
        "    p = org.safe_destination(dst, \"file.txt\")\n",
        "    assert p.name == \"file (2).txt\"\n",
        "\n",
        "def test_apply_moves_handles_exception(tmp_path, monkeypatch, capsys):\n",
        "    # Prepare a file that should be moved\n",
        "    f = tmp_path / \"x.pdf\"\n",
        "    f.write_text(\"x\")\n",
        "    moves = org.plan_moves(tmp_path)\n",
        "\n",
        "    # Force shutil.move to raise\n",
        "    def boom(*a, **k):\n",
        "        raise OSError(\"disk full\")\n",
        "    monkeypatch.setattr(shutil, \"move\", boom)\n",
        "\n",
        "    counts = org.apply_moves(moves, simulate=False)\n",
        "    out = capsys.readouterr().out\n",
        "\n",
        "    # No count increment, file still exists, and SKIP message is printed\n",
        "    assert counts[\"Documents\"] == 0\n",
        "    assert f.exists()\n",
        "    assert \"SKIP x.pdf -> Documents\" in out\n",
        "\n",
        "def test_main_with_plot_and_simulate(tmp_path, monkeypatch):\n",
        "    # One file so counts are non-empty; also trigger --plot-pie branch\n",
        "    (tmp_path / \"v.mkv\").write_text(\"x\")\n",
        "    # Stub plt.show to avoid blocking\n",
        "    import matplotlib.pyplot as plt\n",
        "    monkeypatch.setattr(plt, \"show\", lambda *a, **k: None)\n",
        "\n",
        "    rc = org.main([str(tmp_path), \"--simulate\", \"--plot-pie\"])\n",
        "    assert rc == 0\n"
      ],
      "metadata": {
        "id": "rjF2thHZsv6m",
        "outputId": "1fbdd805-88da-42b8-a347-de2128555fa6",
        "colab": {
          "base_uri": "https://localhost:8080/"
        }
      },
      "execution_count": 23,
      "outputs": [
        {
          "output_type": "stream",
          "name": "stdout",
          "text": [
            "Writing tests/test_file_organizer_more.py\n"
          ]
        }
      ]
    },
    {
      "cell_type": "code",
      "source": [
        "%%writefile tests/test_file_organizer_more_more.py\n",
        "import subprocess, sys\n",
        "import file_organizer as org\n",
        "\n",
        "def test_apply_moves_real_print(capsys, tmp_path):\n",
        "    f = tmp_path / \"doc.txt\"\n",
        "    f.write_text(\"hello\")\n",
        "    moves = org.plan_moves(tmp_path)\n",
        "    counts = org.apply_moves(moves, simulate=False)\n",
        "    out = capsys.readouterr().out\n",
        "    assert \"MOVE doc.txt -> Documents/doc.txt\" in out\n",
        "    assert counts[\"Documents\"] == 1\n",
        "\n",
        "def test_run_as_script(tmp_path):\n",
        "    f = tmp_path / \"a.txt\"\n",
        "    f.write_text(\"content\")\n",
        "    result = subprocess.run(\n",
        "        [sys.executable, \"file_organizer.py\", str(tmp_path), \"--simulate\"],\n",
        "        capture_output=True,\n",
        "        text=True\n",
        "    )\n",
        "    assert result.returncode == 0\n",
        "    assert \"Summary\" in result.stdout\n"
      ],
      "metadata": {
        "id": "vBR1zfCZtjzk",
        "outputId": "2c0d2253-a401-4ba7-850c-5ecde9c68c61",
        "colab": {
          "base_uri": "https://localhost:8080/"
        }
      },
      "execution_count": 25,
      "outputs": [
        {
          "output_type": "stream",
          "name": "stdout",
          "text": [
            "Writing tests/test_file_organizer_more_more.py\n"
          ]
        }
      ]
    },
    {
      "cell_type": "code",
      "source": [
        "%%writefile tests/test_file_organizer_last.py\n",
        "import file_organizer as org\n",
        "\n",
        "def test_apply_moves_hits_line_91(capsys, tmp_path):\n",
        "    # Create a file so apply_moves runs the normal MOVE branch\n",
        "    f = tmp_path / \"doc.txt\"\n",
        "    f.write_text(\"hello\")\n",
        "    moves = org.plan_moves(tmp_path)\n",
        "\n",
        "    # Run in non-simulate mode so the MOVE print executes\n",
        "    counts = org.apply_moves(moves, simulate=False)\n",
        "    out = capsys.readouterr().out\n",
        "\n",
        "    # Assert the MOVE line is in output\n",
        "    assert \"MOVE doc.txt -> Documents/doc.txt\" in out\n",
        "    assert counts[\"Documents\"] == 1\n"
      ],
      "metadata": {
        "id": "Ox31n0EPuaRh",
        "outputId": "0ee5abe2-1625-4e5a-8386-218012d94896",
        "colab": {
          "base_uri": "https://localhost:8080/"
        }
      },
      "execution_count": 27,
      "outputs": [
        {
          "output_type": "stream",
          "name": "stdout",
          "text": [
            "Writing tests/test_file_organizer_last.py\n"
          ]
        }
      ]
    },
    {
      "cell_type": "markdown",
      "source": [
        "# **Running the test coverage**"
      ],
      "metadata": {
        "id": "B7tKp6xTqCRl"
      }
    },
    {
      "cell_type": "code",
      "source": [
        "%env PYTHONPATH=/content"
      ],
      "metadata": {
        "id": "BtZQla5XrJJ0",
        "outputId": "ba8a3506-88c6-430e-d905-d3779ad53fa8",
        "colab": {
          "base_uri": "https://localhost:8080/"
        }
      },
      "execution_count": 21,
      "outputs": [
        {
          "output_type": "stream",
          "name": "stdout",
          "text": [
            "env: PYTHONPATH=/content\n"
          ]
        }
      ]
    },
    {
      "cell_type": "code",
      "source": [
        "!pip -q install -r requirements.txt\n",
        "!pytest -q --cov=file_organizer --cov-report=term-missing\n"
      ],
      "metadata": {
        "id": "aq-2M2klppdj",
        "outputId": "e873a1fc-a118-41aa-8103-785e1f924333",
        "colab": {
          "base_uri": "https://localhost:8080/"
        }
      },
      "execution_count": 29,
      "outputs": [
        {
          "output_type": "stream",
          "name": "stdout",
          "text": [
            "\u001b[32m.\u001b[0m\u001b[32m.\u001b[0m\u001b[32m.\u001b[0m\u001b[32m.\u001b[0m\u001b[32m.\u001b[0m\u001b[32m.\u001b[0m\u001b[32m.\u001b[0m\u001b[32m.\u001b[0m\u001b[32m.\u001b[0m\u001b[32m.\u001b[0m\u001b[32m.\u001b[0m\u001b[32m.\u001b[0m\u001b[32m.\u001b[0m\u001b[32m.\u001b[0m\u001b[32m.\u001b[0m\u001b[32m.\u001b[0m\u001b[32m.\u001b[0m\u001b[32m.\u001b[0m\u001b[32m                                                       [100%]\u001b[0m\n",
            "================================ tests coverage ================================\n",
            "_______________ coverage: platform linux, python 3.11.13-final-0 _______________\n",
            "\n",
            "Name                Stmts   Miss  Cover   Missing\n",
            "-------------------------------------------------\n",
            "file_organizer.py      91      1    99%   91\n",
            "-------------------------------------------------\n",
            "TOTAL                  91      1    99%\n",
            "\u001b[32m\u001b[32m\u001b[1m18 passed\u001b[0m\u001b[32m in 18.85s\u001b[0m\u001b[0m\n"
          ]
        }
      ]
    }
  ],
  "metadata": {
    "colab": {
      "provenance": [],
      "authorship_tag": "ABX9TyO+xJ9rD0ZKnY/7N01iY8Ar",
      "include_colab_link": true
    },
    "kernelspec": {
      "display_name": "Python 3",
      "name": "python3"
    },
    "language_info": {
      "name": "python"
    }
  },
  "nbformat": 4,
  "nbformat_minor": 0
}